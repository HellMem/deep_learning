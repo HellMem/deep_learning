{
 "cells": [
  {
   "cell_type": "markdown",
   "metadata": {
    "id": "b98wu8EgHzsb",
    "colab_type": "text"
   },
   "source": [
    "VGG16"
   ]
  },
  {
   "cell_type": "code",
   "execution_count": 0,
   "metadata": {
    "id": "71Rd6tK8Jflf",
    "colab_type": "code",
    "outputId": "5bab33f6-8962-419f-9c6c-0bd8abd1d143",
    "executionInfo": {
     "status": "ok",
     "timestamp": 1.575477374697E12,
     "user_tz": 360.0,
     "elapsed": 208.0,
     "user": {
      "displayName": "Guillermo Coronado",
      "photoUrl": "https://lh3.googleusercontent.com/a-/AAuE7mB82CsOwLngHLjgxTU9FW1XcYImfs8iLw-2Cxuq=s64",
      "userId": "05803857212941809303"
     }
    },
    "colab": {
     "base_uri": "https://localhost:8080/",
     "height": 34.0
    }
   },
   "outputs": [
    {
     "name": "stdout",
     "output_type": "stream",
     "text": [
      "Drive already mounted at /content/drive; to attempt to forcibly remount, call drive.mount(\"/content/drive\", force_remount=True).\n"
     ]
    }
   ],
   "source": [
    "from google.colab import drive\n",
    "drive.mount('/content/drive')"
   ]
  },
  {
   "cell_type": "code",
   "execution_count": 0,
   "metadata": {
    "id": "-4gmhH_uHwlE",
    "colab_type": "code",
    "colab": {}
   },
   "outputs": [],
   "source": [
    "import keras,os\n",
    "from keras.models import Sequential\n",
    "from keras.layers import Dense, Conv2D, MaxPool2D , Flatten\n",
    "from keras.preprocessing.image import ImageDataGenerator\n",
    "import numpy as np\n",
    "import time"
   ]
  },
  {
   "cell_type": "code",
   "execution_count": 0,
   "metadata": {
    "id": "9NEG5n0sPgMc",
    "colab_type": "code",
    "colab": {}
   },
   "outputs": [],
   "source": [
    "from sklearn.preprocessing import LabelEncoder\n",
    "from sklearn.preprocessing import OneHotEncoder\n",
    "\n",
    "\n",
    "def get_onehot_encoder(labels):\n",
    "    values = np.array(labels).reshape(-1, 1)\n",
    "    # integer-binary encode\n",
    "    onehot_encoder = OneHotEncoder(sparse=False, dtype=np.uint8, categories='auto')\n",
    "    onehot_encoder.fit(values)\n",
    "    return onehot_encoder\n",
    "\n",
    "def get_onehot(labels, onehot_encoder):\n",
    "    values = np.array(labels).reshape(-1, 1)\n",
    "    onehot_encoded = onehot_encoder.transform(values)\n",
    "    return onehot_encoded\n",
    "    \n",
    "def get_onehot_inverse(onehot_label, onehot_encoder):\n",
    "    # invert first example\n",
    "    if len(onehot_label.shape) == 1:\n",
    "        onehot_label = onehot_label.reshape(1,-1)\n",
    "    values = np.array(onehot_label)\n",
    "    inverted = onehot_encoder.inverse_transform(onehot_label)\n",
    "    return inverted"
   ]
  },
  {
   "cell_type": "code",
   "execution_count": 0,
   "metadata": {
    "id": "rs-QEPZdrf6Q",
    "colab_type": "code",
    "colab": {}
   },
   "outputs": [],
   "source": [
    "class AnimalsGenerator(keras.utils.Sequence) :\n",
    "  def __init__(self, train_images, train_labels, batch_size) :\n",
    "    self.train_images = train_images\n",
    "    self.train_labels = train_labels\n",
    "    self.batch_size = batch_size\n",
    "    \n",
    "    \n",
    "  def __len__(self) :\n",
    "    return int(np.floor(len(self.train_images) / self.batch_size))\n",
    "  \n",
    "  \n",
    "  def __getitem__(self, idx) :\n",
    "    batch_x = self.train_images[idx * self.batch_size : (idx+1) * self.batch_size]\n",
    "    batch_y = self.train_labels[idx * self.batch_size : (idx+1) * self.batch_size]\n",
    "    \n",
    "    return batch_x, batch_y"
   ]
  },
  {
   "cell_type": "code",
   "execution_count": 0,
   "metadata": {
    "id": "Am_9xHjQKyyV",
    "colab_type": "code",
    "colab": {}
   },
   "outputs": [],
   "source": [
    "import h5py\n",
    "hdf5_path = '/content/drive/My Drive/Colab Notebooks/animals/animals_224.h5'\n",
    "hdf5_file = h5py.File(hdf5_path, \"r\")\n",
    "train_images = hdf5_file[\"train_img\"]\n",
    "val_images = hdf5_file[\"val_img\"]\n",
    "test_images = hdf5_file[\"test_img\"]\n",
    "\n",
    "train_labels = hdf5_file[\"train_labels\"]\n",
    "val_labels = hdf5_file[\"val_labels\"]\n",
    "test_labels = hdf5_file[\"test_labels\"]\n",
    "\n",
    "onehot_encoder = get_onehot_encoder(train_labels)\n",
    "train_labels= get_onehot(train_labels, onehot_encoder)\n",
    "\n",
    "\n",
    "animals_generator = AnimalsGenerator(train_images, train_labels, 32)\n",
    "\n",
    "val_labels = get_onehot(val_labels, onehot_encoder)\n",
    "val_data = (val_images, val_labels)\n",
    "\n",
    "test_labels = get_onehot(test_labels, onehot_encoder)\n"
   ]
  },
  {
   "cell_type": "code",
   "execution_count": 0,
   "metadata": {
    "id": "S3MMC-OlI2es",
    "colab_type": "code",
    "colab": {}
   },
   "outputs": [],
   "source": [
    "model = Sequential()\n",
    "\n",
    "model.add(Conv2D(input_shape=(224,224,3),filters=64,kernel_size=(3,3),padding=\"same\", activation=\"relu\"))\n",
    "model.add(Conv2D(filters=64,kernel_size=(3,3),padding=\"same\", activation=\"relu\"))\n",
    "model.add(MaxPool2D(pool_size=(2,2),strides=(2,2)))\n",
    "\n",
    "model.add(Conv2D(filters=128, kernel_size=(3,3), padding=\"same\", activation=\"relu\"))\n",
    "model.add(Conv2D(filters=128, kernel_size=(3,3), padding=\"same\", activation=\"relu\"))\n",
    "model.add(MaxPool2D(pool_size=(2,2),strides=(2,2)))\n",
    "\n",
    "model.add(Conv2D(filters=256, kernel_size=(3,3), padding=\"same\", activation=\"relu\"))\n",
    "model.add(Conv2D(filters=256, kernel_size=(3,3), padding=\"same\", activation=\"relu\"))\n",
    "model.add(Conv2D(filters=256, kernel_size=(3,3), padding=\"same\", activation=\"relu\"))\n",
    "model.add(MaxPool2D(pool_size=(2,2),strides=(2,2)))\n",
    "\n",
    "model.add(Conv2D(filters=512, kernel_size=(3,3), padding=\"same\", activation=\"relu\"))\n",
    "model.add(Conv2D(filters=512, kernel_size=(3,3), padding=\"same\", activation=\"relu\"))\n",
    "model.add(Conv2D(filters=512, kernel_size=(3,3), padding=\"same\", activation=\"relu\"))\n",
    "model.add(MaxPool2D(pool_size=(2,2),strides=(2,2)))\n",
    "\n",
    "model.add(Conv2D(filters=512, kernel_size=(3,3), padding=\"same\", activation=\"relu\"))\n",
    "model.add(Conv2D(filters=512, kernel_size=(3,3), padding=\"same\", activation=\"relu\"))\n",
    "model.add(Conv2D(filters=512, kernel_size=(3,3), padding=\"same\", activation=\"relu\"))\n",
    "model.add(MaxPool2D(pool_size=(2,2),strides=(2,2)))\n",
    "\n",
    "model.add(Flatten())\n",
    "model.add(Dense(units=4096,activation=\"relu\"))\n",
    "model.add(Dense(units=4096,activation=\"relu\"))\n",
    "model.add(Dense(units=10, activation=\"softmax\"))"
   ]
  },
  {
   "cell_type": "code",
   "execution_count": 0,
   "metadata": {
    "id": "OkM9VIp-JGRq",
    "colab_type": "code",
    "outputId": "17b2b781-9c04-4c22-cb77-0c6a703d0910",
    "executionInfo": {
     "status": "ok",
     "timestamp": 1.575477375392E12,
     "user_tz": 360.0,
     "elapsed": 861.0,
     "user": {
      "displayName": "Guillermo Coronado",
      "photoUrl": "https://lh3.googleusercontent.com/a-/AAuE7mB82CsOwLngHLjgxTU9FW1XcYImfs8iLw-2Cxuq=s64",
      "userId": "05803857212941809303"
     }
    },
    "colab": {
     "base_uri": "https://localhost:8080/",
     "height": 901.0
    }
   },
   "outputs": [
    {
     "name": "stdout",
     "output_type": "stream",
     "text": [
      "Model: \"sequential_3\"\n",
      "_________________________________________________________________\n",
      "Layer (type)                 Output Shape              Param #   \n",
      "=================================================================\n",
      "conv2d_27 (Conv2D)           (None, 224, 224, 64)      1792      \n",
      "_________________________________________________________________\n",
      "conv2d_28 (Conv2D)           (None, 224, 224, 64)      36928     \n",
      "_________________________________________________________________\n",
      "max_pooling2d_11 (MaxPooling (None, 112, 112, 64)      0         \n",
      "_________________________________________________________________\n",
      "conv2d_29 (Conv2D)           (None, 112, 112, 128)     73856     \n",
      "_________________________________________________________________\n",
      "conv2d_30 (Conv2D)           (None, 112, 112, 128)     147584    \n",
      "_________________________________________________________________\n",
      "max_pooling2d_12 (MaxPooling (None, 56, 56, 128)       0         \n",
      "_________________________________________________________________\n",
      "conv2d_31 (Conv2D)           (None, 56, 56, 256)       295168    \n",
      "_________________________________________________________________\n",
      "conv2d_32 (Conv2D)           (None, 56, 56, 256)       590080    \n",
      "_________________________________________________________________\n",
      "conv2d_33 (Conv2D)           (None, 56, 56, 256)       590080    \n",
      "_________________________________________________________________\n",
      "max_pooling2d_13 (MaxPooling (None, 28, 28, 256)       0         \n",
      "_________________________________________________________________\n",
      "conv2d_34 (Conv2D)           (None, 28, 28, 512)       1180160   \n",
      "_________________________________________________________________\n",
      "conv2d_35 (Conv2D)           (None, 28, 28, 512)       2359808   \n",
      "_________________________________________________________________\n",
      "conv2d_36 (Conv2D)           (None, 28, 28, 512)       2359808   \n",
      "_________________________________________________________________\n",
      "max_pooling2d_14 (MaxPooling (None, 14, 14, 512)       0         \n",
      "_________________________________________________________________\n",
      "conv2d_37 (Conv2D)           (None, 14, 14, 512)       2359808   \n",
      "_________________________________________________________________\n",
      "conv2d_38 (Conv2D)           (None, 14, 14, 512)       2359808   \n",
      "_________________________________________________________________\n",
      "conv2d_39 (Conv2D)           (None, 14, 14, 512)       2359808   \n",
      "_________________________________________________________________\n",
      "max_pooling2d_15 (MaxPooling (None, 7, 7, 512)         0         \n",
      "_________________________________________________________________\n",
      "flatten_3 (Flatten)          (None, 25088)             0         \n",
      "_________________________________________________________________\n",
      "dense_7 (Dense)              (None, 4096)              102764544 \n",
      "_________________________________________________________________\n",
      "dense_8 (Dense)              (None, 4096)              16781312  \n",
      "_________________________________________________________________\n",
      "dense_9 (Dense)              (None, 10)                40970     \n",
      "=================================================================\n",
      "Total params: 134,301,514\n",
      "Trainable params: 134,301,514\n",
      "Non-trainable params: 0\n",
      "_________________________________________________________________\n"
     ]
    }
   ],
   "source": [
    "from keras.optimizers import SGD\n",
    "opt = SGD(lr=0.001)\n",
    "model.compile(optimizer=opt, loss='binary_crossentropy', metrics=['accuracy'])\n",
    "model.summary()"
   ]
  },
  {
   "cell_type": "code",
   "execution_count": 0,
   "metadata": {
    "id": "CsKYKk4HJNAj",
    "colab_type": "code",
    "outputId": "75968adb-11c6-4df1-c2ad-351266e47018",
    "executionInfo": {
     "status": "ok",
     "timestamp": 1.575437207966E12,
     "user_tz": 360.0,
     "elapsed": 22840.0,
     "user": {
      "displayName": "Guillermo Coronado",
      "photoUrl": "https://lh3.googleusercontent.com/a-/AAuE7mB82CsOwLngHLjgxTU9FW1XcYImfs8iLw-2Cxuq=s64",
      "userId": "05803857212941809303"
     }
    },
    "colab": {
     "base_uri": "https://localhost:8080/",
     "height": 119.0
    }
   },
   "outputs": [
    {
     "name": "stdout",
     "output_type": "stream",
     "text": [
      "Epoch 1/10\n",
      "654/654 [==============================] - 3890s 6s/step - loss: 0.3047 - acc: 0.9001 - val_loss: 0.2969 - val_acc: 0.9012\n",
      "\n",
      "Epoch 00001: val_acc improved from -inf to 0.90122, saving model to vgg16_1.h5\n",
      "Epoch 2/10\n",
      "175/654 [=======>......................] - ETA: 46:09 - loss: 0.2953 - acc: 0.9009"
     ]
    }
   ],
   "source": [
    "\n",
    "from keras.callbacks import ModelCheckpoint, EarlyStopping\n",
    "checkpoint = ModelCheckpoint(\"vgg16_1.h5\", monitor='val_acc', verbose=1, save_best_only=True, save_weights_only=False, mode='auto', period=1)\n",
    "early = EarlyStopping(monitor='val_acc', min_delta=0, patience=20, verbose=1, mode='auto')\n",
    "batch_size = 32\n",
    "hist = model.fit_generator(animals_generator,steps_per_epoch=train_images.shape[0] // batch_size, epochs=10, validation_data= val_data, validation_steps=10,callbacks=[checkpoint,early])\n",
    "\n",
    "print(hist.history)\n",
    "acc_history = hist.history[\"acc\"]\n",
    "loss_history = hist.history['loss']\n",
    "val_acc_history = hist.history['val_acc']\n",
    "val_loss_history = hist.history['val_loss']\n"
   ]
  },
  {
   "cell_type": "code",
   "execution_count": 0,
   "metadata": {
    "id": "VeIToX-UJRB-",
    "colab_type": "code",
    "colab": {}
   },
   "outputs": [],
   "source": [
    "import matplotlib.pyplot as plt\n",
    "plt.plot(acc_history)\n",
    "plt.plot(val_acc_history)\n",
    "plt.plot(loss_history)\n",
    "plt.plot(val_loss_history)\n",
    "plt.title(\"model accuracy\")\n",
    "plt.ylabel(\"Accuracy\")\n",
    "plt.xlabel(\"Epoch\")\n",
    "plt.legend([\"Accuracy\",\"Validation Accuracy\",\"loss\",\"Validation Loss\"])\n",
    "plt.show()\n",
    "\n"
   ]
  },
  {
   "cell_type": "code",
   "execution_count": 0,
   "metadata": {
    "id": "FinsHKgHFq_n",
    "colab_type": "code",
    "colab": {}
   },
   "outputs": [],
   "source": [
    "from keras.models import load_model\n",
    "import numpy as np\n",
    "\n",
    "saved_model = load_model(\"vgg16_1.h5\")\n",
    "\n",
    "results = saved_model.evaluate(test_images,  test_labels, verbose=1, batch_size=128)\n",
    "print('test loss, test acc:', results)\n",
    "\n",
    "from sklearn.metrics import classification_report\n",
    "\n",
    "y_pred = saved_model.predict(train_images, batch_size=64, verbose=1)\n",
    "y_pred_bool = np.argmax(y_pred, axis=1)\n",
    "y_bool = np.argmax(train_labels, axis=1)\n",
    "print('Train results:')\n",
    "print(classification_report(y_bool, y_pred_bool))\n",
    "print('-' * 100)\n",
    "\n",
    "y_pred = saved_model.predict(test_images, batch_size=64, verbose=1)\n",
    "y_pred_bool = np.argmax(y_pred, axis=1)\n",
    "y_bool = np.argmax(test_labels, axis=1)\n",
    "print('Test results:')\n",
    "print(classification_report(y_bool, y_pred_bool))\n",
    "print('-' * 100)\n",
    "\n",
    "hdf5_file.close()"
   ]
  },
  {
   "cell_type": "code",
   "execution_count": 0,
   "metadata": {
    "id": "udfeC9JzZdXN",
    "colab_type": "code",
    "colab": {}
   },
   "outputs": [],
   "source": [
    "from keras.preprocessing import image\n",
    "import numpy as np\n",
    "import matplotlib.pyplot as plt\n",
    "from keras.models import load_model\n",
    "\n",
    "img = image.load_img(\"pollo.jpg\",target_size=(224,224))\n",
    "img = np.asarray(img)\n",
    "plt.imshow(img)\n",
    "img = np.expand_dims(img, axis=0)\n",
    "\n",
    "saved_model = load_model(\"vgg16_1.h5\")\n",
    "output = saved_model.predict(img)\n",
    "\n",
    "index = np.argmax(output, axis=1)\n",
    "if index == 0:\n",
    "  print(\"Perro\")\n",
    "elif index == 1:\n",
    "  print(\"Caballo\")\n",
    "elif index == 2:\n",
    "  print(\"Elefante\")\n",
    "elif index == 3:\n",
    "  print(\"Mariposa\")\n",
    "elif index == 4:\n",
    "  print(\"Gallina\")\n",
    "elif index == 5:\n",
    "  print(\"Gato\")\n",
    "elif index == 6:\n",
    "  print(\"Vaca\")\n",
    "elif index == 7:\n",
    "  print(\"Oveja\")\n",
    "elif index == 8:\n",
    "  print(\"Araña\")\n",
    "elif index == 9:\n",
    "  print(\"Ardilla\")\n",
    "# 0 - Perro\n",
    "# 1 - Caballo\n",
    "# 2 - Elefante\n",
    "# 3 - Mariposa\n",
    "# 4 - Gallina\n",
    "# 5 - Gato\n",
    "# 6 - Vaca\n",
    "# 7 - Oveja\n",
    "# 8 - Araña\n",
    "# 9 - Ardilla"
   ]
  }
 ],
 "metadata": {
  "colab": {
   "name": "animals_vgg16.ipynb",
   "provenance": [],
   "collapsed_sections": [],
   "machine_shape": "hm"
  },
  "kernelspec": {
   "name": "python3",
   "display_name": "Python 3"
  },
  "accelerator": "TPU"
 },
 "nbformat": 4,
 "nbformat_minor": 0
}
