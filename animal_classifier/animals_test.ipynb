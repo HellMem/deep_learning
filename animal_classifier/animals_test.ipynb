{
 "cells": [
  {
   "cell_type": "code",
   "execution_count": 0,
   "metadata": {
    "id": "zM9i47lp-n-S",
    "colab_type": "code",
    "outputId": "c443405d-85c1-4eca-d3cd-6cb070f47672",
    "executionInfo": {
     "status": "ok",
     "timestamp": 1.574878346297E12,
     "user_tz": 360.0,
     "elapsed": 20264.0,
     "user": {
      "displayName": "Guillermo Coronado",
      "photoUrl": "https://lh3.googleusercontent.com/a-/AAuE7mB82CsOwLngHLjgxTU9FW1XcYImfs8iLw-2Cxuq=s64",
      "userId": "05803857212941809303"
     }
    },
    "colab": {
     "base_uri": "https://localhost:8080/",
     "height": 122.0
    }
   },
   "outputs": [
    {
     "name": "stdout",
     "output_type": "stream",
     "text": [
      "Go to this URL in a browser: https://accounts.google.com/o/oauth2/auth?client_id=947318989803-6bn6qk8qdgf4n4g3pfee6491hc0brc4i.apps.googleusercontent.com&redirect_uri=urn%3aietf%3awg%3aoauth%3a2.0%3aoob&response_type=code&scope=email%20https%3a%2f%2fwww.googleapis.com%2fauth%2fdocs.test%20https%3a%2f%2fwww.googleapis.com%2fauth%2fdrive%20https%3a%2f%2fwww.googleapis.com%2fauth%2fdrive.photos.readonly%20https%3a%2f%2fwww.googleapis.com%2fauth%2fpeopleapi.readonly\n",
      "\n",
      "Enter your authorization code:\n",
      "··········\n",
      "Mounted at /content/drive\n"
     ]
    }
   ],
   "source": [
    "from google.colab import drive\n",
    "drive.mount('/content/drive')"
   ]
  },
  {
   "cell_type": "code",
   "execution_count": 0,
   "metadata": {
    "id": "zCwyD6qB-sBI",
    "colab_type": "code",
    "colab": {}
   },
   "outputs": [],
   "source": [
    "import os\n",
    "import tensorflow as tf\n",
    "import numpy as np\n",
    "\n",
    "import numpy as np\n",
    "\n",
    "\n",
    "import h5py\n",
    "from numpy import array\n",
    "from numpy import argmax\n",
    "from sklearn.preprocessing import LabelEncoder\n",
    "from sklearn.preprocessing import OneHotEncoder\n",
    "from scipy.ndimage.filters import gaussian_filter\n",
    "from scipy.ndimage.interpolation import map_coordinates\n"
   ]
  },
  {
   "cell_type": "code",
   "execution_count": 0,
   "metadata": {
    "id": "E1GQmJH8-k_H",
    "colab_type": "code",
    "colab": {}
   },
   "outputs": [],
   "source": [
    "def get_onehot_encoder(labels):\n",
    "    values = array(labels).reshape(-1, 1)\n",
    "    # integer-binary encode\n",
    "    onehot_encoder = OneHotEncoder(sparse=False, dtype=np.uint8, categories='auto')\n",
    "    onehot_encoder.fit(values)\n",
    "    return onehot_encoder\n",
    "\n",
    "def get_onehot(labels, onehot_encoder):\n",
    "    values = array(labels).reshape(-1, 1)\n",
    "    onehot_encoded = onehot_encoder.transform(values)\n",
    "    return onehot_encoded\n",
    "    \n",
    "def get_onehot_inverse(onehot_label, onehot_encoder):\n",
    "    # invert first example\n",
    "    if len(onehot_label.shape) == 1:\n",
    "        onehot_label = onehot_label.reshape(1,-1)\n",
    "    values = array(onehot_label)\n",
    "    inverted = onehot_encoder.inverse_transform(onehot_label)\n",
    "    return inverted"
   ]
  },
  {
   "cell_type": "code",
   "execution_count": 0,
   "metadata": {
    "id": "CX7dOJql-ah3",
    "colab_type": "code",
    "colab": {}
   },
   "outputs": [],
   "source": [
    "class Animals:\n",
    "  def __init__(self, train_images, val_images, test_images, train_labels, val_labels, test_labels):\n",
    "    self.train_images = train_images\n",
    "    self.val_images = val_images\n",
    "    self.test_images = test_images\n",
    "    self.train_labels = train_labels\n",
    "    self.val_labels = val_labels\n",
    "    self.test_labels = test_labels\n",
    "    self.current_train_batch_index = 0\n",
    "    self.current_val_batch_index = 0\n",
    "    self.current_test_batch_index = 0\n",
    "\n",
    "    self.onehot_encoder = get_onehot_encoder(train_labels)\n",
    "    self.train_labels_onehot_encoded= get_onehot(train_labels, self.onehot_encoder)\n",
    "    self.test_labels_onehot_encoded= get_onehot(test_labels, self.onehot_encoder)\n",
    "\n",
    "  def train_size(self):\n",
    "    return len(self.train_images)\n",
    "\n",
    "  def val_size(self):\n",
    "    return len(self.val_images)\n",
    "\n",
    "  def test_size(self):\n",
    "    return len(self.test_images)\n",
    "\n",
    "  def train_examples(self, examples_size):\n",
    "    train_examples = self.train_images[:examples_size]\n",
    "    reshaped_examples = []\n",
    "    for x in train_examples:\n",
    "      x = x.reshape(-1)\n",
    "      reshaped_examples.append(x)\n",
    "    return np.array(reshaped_examples)\n",
    "\n",
    "\n",
    "  def next_train_batch(self, batch_size):\n",
    "    train_images = self.train_images[self.current_train_batch_index: self.current_train_batch_index + batch_size]\n",
    "    #train_labels = self.train_labels[self.current_train_batch_index: self.current_train_batch_index + batch_size]\n",
    "    train_labels = self.train_labels_onehot_encoded[self.current_train_batch_index: self.current_train_batch_index + batch_size]\n",
    "    self.current_train_batch_index += batch_size\n",
    "    reshaped_batch = []\n",
    "    for x in train_images:\n",
    "      x = x.reshape(-1) \n",
    "      reshaped_batch.append(x)\n",
    "\n",
    "    return np.array(reshaped_batch), train_labels\n",
    "\n",
    "  def next_val_batch(self, batch_size):\n",
    "    val_images = self.val_images[self.current_val_batch_index: self.current_val_batch_index + batch_size]\n",
    "    #val_labels = self.val_labels[self.current_val_batch_index: self.current_val_batch_index + batch_size]\n",
    "    val_labels = self.val_labels_onehot_encoded[self.current_val_batch_index: self.current_val_batch_index + batch_size]\n",
    "    self.current_val_batch_index += batch_size\n",
    "    reshaped_batch = []\n",
    "    for x in val_images:\n",
    "      x = x.reshape(-1) \n",
    "      reshaped_batch.append(x)\n",
    "\n",
    "    return np.array(reshaped_batch), val_labels\n",
    "\n",
    "  def next_test_batch(self, batch_size):\n",
    "    test_images = self.test_images[self.current_test_batch_index: self.current_test_batch_index + batch_size]\n",
    "    #test_labels = self.test_labels[self.current_test_batch_index: self.current_test_batch_index + batch_size]\n",
    "    test_labels = self.test_labels_onehot_encoded[self.current_test_batch_index: self.current_test_batch_index + batch_size]\n",
    "    self.current_test_batch_index += batch_size\n",
    "    reshaped_batch = []\n",
    "    for x in test_images:\n",
    "      x = x.reshape(-1) \n",
    "      reshaped_batch.append(x)\n",
    "\n",
    "    return np.array(reshaped_batch), test_labels\n",
    "\n",
    "  def reset_batches(self):\n",
    "    self.current_train_batch_index = 0\n",
    "    self.current_val_batch_index = 0\n",
    "    self.current_test_batch_index = 0\n",
    "\n",
    "  def reset_train_batch(self):\n",
    "    self.current_train_batch_index = 0\n",
    "\n",
    "  def reset_test_batch(self):\n",
    "    self.current_test_batch_index = 0\n",
    "\n",
    "  def reset_val_batch(self):\n",
    "    self.current_val_batch_index = 0"
   ]
  },
  {
   "cell_type": "code",
   "execution_count": 0,
   "metadata": {
    "id": "hCTbV55LPNIm",
    "colab_type": "code",
    "colab": {}
   },
   "outputs": [],
   "source": [
    "def batch_elastic_transform_mnist(images, sigma, alpha, height, width, random_state=None):\n",
    "    assert len(images.shape) == 2\n",
    "    # the two lines below ensure we do not alter the array images\n",
    "    e_images = np.empty_like(images)\n",
    "    e_images[:] = images\n",
    "    \n",
    "    e_images = e_images.reshape(-1, height, width)\n",
    "    \n",
    "    if random_state is None:\n",
    "        random_state = np.random.RandomState(None)\n",
    "    x, y = np.mgrid[0:height, 0:width]\n",
    "    \n",
    "    for i in range(e_images.shape[0]):\n",
    "        print('hola prro', i)\n",
    "        dx = gaussian_filter((random_state.rand(height, width) * 2 - 1), sigma, mode='constant') * alpha\n",
    "        dy = gaussian_filter((random_state.rand(height, width) * 2 - 1), sigma, mode='constant') * alpha\n",
    "        indices = x + dx, y + dy\n",
    "        e_images[i] = map_coordinates(e_images[i], indices, order=1)\n",
    "\n",
    "    return e_images.reshape(-1, 784)\n",
    "\n",
    "def batch_elastic_transform(images, sigma, alpha, height, width, random_state=None):\n",
    "    assert len(images.shape) == 2\n",
    "    # the two lines below ensure we do not alter the array images\n",
    "    e_images = np.empty_like(images)\n",
    "    e_images[:] = images\n",
    "    \n",
    "    e_images = e_images.reshape(-1, height, width)\n",
    "    \n",
    "    if random_state is None:\n",
    "        random_state = np.random.RandomState(None)\n",
    "    x, y = np.mgrid[0:height, 0:width]\n",
    "    \n",
    "    for i in range(e_images.shape[0]):\n",
    "        print('hola prro animal', i)\n",
    "        dx = gaussian_filter((random_state.rand(height, width) * 2 - 1), sigma, mode='constant') * alpha\n",
    "        dy = gaussian_filter((random_state.rand(height, width) * 2 - 1), sigma, mode='constant') * alpha\n",
    "        indices = x + dx, y + dy\n",
    "        e_images[i] = map_coordinates(e_images[i], indices, order=1)\n",
    "\n",
    "    return e_images.reshape(-1, 196608)"
   ]
  },
  {
   "cell_type": "code",
   "execution_count": 0,
   "metadata": {
    "id": "cfCGoIAN--_7",
    "colab_type": "code",
    "outputId": "581929dd-21a5-47d2-fffe-c6d384ae4e6e",
    "executionInfo": {
     "status": "ok",
     "timestamp": 1.574884209864E12,
     "user_tz": 360.0,
     "elapsed": 887.0,
     "user": {
      "displayName": "Guillermo Coronado",
      "photoUrl": "https://lh3.googleusercontent.com/a-/AAuE7mB82CsOwLngHLjgxTU9FW1XcYImfs8iLw-2Cxuq=s64",
      "userId": "05803857212941809303"
     }
    },
    "colab": {
     "base_uri": "https://localhost:8080/",
     "height": 51.0
    }
   },
   "outputs": [
    {
     "name": "stdout",
     "output_type": "stream",
     "text": [
      "(10, 196608)\n",
      "(256, 256, 30)\n"
     ]
    }
   ],
   "source": [
    "hdf5_path = '/content/drive/My Drive/Colab Notebooks/animals/animals1.h5'\n",
    "hdf5_file = h5py.File(hdf5_path, \"r\")\n",
    "train_images = hdf5_file[\"train_img\"]\n",
    "val_images = hdf5_file[\"val_img\"]\n",
    "test_images = hdf5_file[\"test_img\"]\n",
    "\n",
    "train_labels = hdf5_file[\"train_labels\"]\n",
    "val_labels = hdf5_file[\"val_labels\"]\n",
    "test_labels = hdf5_file[\"test_labels\"]\n",
    "\n",
    "# Import MNIST data\n",
    "#from tensorflow.examples.tutorials.mnist import input_data\n",
    "#mnist = input_data.read_data_sets(\"MNIST_data\", one_hot=True)\n",
    "\n",
    "animals= Animals(train_images, val_images, test_images, train_labels, val_labels, test_labels)\n",
    "example = animals.train_examples(10)\n",
    "print(example.shape)\n",
    "\n",
    "mnist_images, __ = mnist.train.next_batch(1)\n",
    "#animals_images, _ = animals.next_train_batch(1)\n",
    "\n",
    "animals_images = animals_images.reshape(256, 256, -1)\n",
    "#mnist_images = mnist_images.reshape(-1, 28, 28)\n",
    "\n",
    "#print('Animals', animals_images.shape)\n",
    "\n",
    "#print('MNIST', mnist_images.shape)\n",
    "\n",
    "sigma = 4\n",
    "alpha = 20\n",
    "  \n",
    "#(batch_elastic_transform_mnist(mnist_images, sigma, alpha, 28, 28))\n",
    "#(batch_elastic_transform(animals_images, sigma, alpha, 256, 256))\n",
    "\n",
    "hdf5_file.close()"
   ]
  }
 ],
 "metadata": {
  "colab": {
   "name": "animals_test.ipynb",
   "provenance": []
  },
  "kernelspec": {
   "name": "python3",
   "display_name": "Python 3"
  }
 },
 "nbformat": 4,
 "nbformat_minor": 0
}
