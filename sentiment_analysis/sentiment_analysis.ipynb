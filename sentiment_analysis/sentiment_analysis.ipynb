{
 "cells": [
  {
   "cell_type": "code",
   "execution_count": 0,
   "metadata": {
    "colab": {},
    "colab_type": "code",
    "id": "jgxc3s8WjKDu"
   },
   "outputs": [],
   "source": [
    "import pandas as pd\n",
    "import numpy as np\n",
    "from numpy import array\n",
    "from numpy import asarray\n",
    "from numpy import zeros\n",
    "\n",
    "import re\n",
    "import nltk\n",
    "from nltk.corpus import stopwords\n",
    "\n",
    "import seaborn as sns\n",
    "\n",
    "from keras.preprocessing.text import one_hot\n",
    "from keras.preprocessing.sequence import pad_sequences\n",
    "from keras.models import Sequential\n",
    "from keras.layers.core import Activation, Dropout, Dense\n",
    "from keras.layers import Flatten\n",
    "from keras.layers import Conv1D\n",
    "from keras.layers import GlobalMaxPooling1D\n",
    "from keras.layers import LSTM\n",
    "from keras.layers.embeddings import Embedding\n",
    "from sklearn.model_selection import train_test_split\n",
    "from keras.preprocessing.text import Tokenizer"
   ]
  },
  {
   "cell_type": "code",
   "execution_count": 23,
   "metadata": {
    "colab": {
     "base_uri": "https://localhost:8080/",
     "height": 34
    },
    "colab_type": "code",
    "executionInfo": {
     "elapsed": 747,
     "status": "ok",
     "timestamp": 1572405151250,
     "user": {
      "displayName": "Guillermo Coronado",
      "photoUrl": "https://lh3.googleusercontent.com/a-/AAuE7mB82CsOwLngHLjgxTU9FW1XcYImfs8iLw-2Cxuq=s64",
      "userId": "05803857212941809303"
     },
     "user_tz": 360
    },
    "id": "SCSpQQ4Oj1k_",
    "outputId": "7860b085-7248-43a9-a476-77df0a504eca"
   },
   "outputs": [
    {
     "name": "stdout",
     "output_type": "stream",
     "text": [
      "Drive already mounted at /content/drive; to attempt to forcibly remount, call drive.mount(\"/content/drive\", force_remount=True).\n"
     ]
    }
   ],
   "source": [
    "# Mount the Google Drive to Google Colab\n",
    "from google.colab import drive\n",
    "drive.mount('/content/drive')"
   ]
  },
  {
   "cell_type": "code",
   "execution_count": 24,
   "metadata": {
    "colab": {
     "base_uri": "https://localhost:8080/",
     "height": 50
    },
    "colab_type": "code",
    "executionInfo": {
     "elapsed": 1472,
     "status": "ok",
     "timestamp": 1572405151987,
     "user": {
      "displayName": "Guillermo Coronado",
      "photoUrl": "https://lh3.googleusercontent.com/a-/AAuE7mB82CsOwLngHLjgxTU9FW1XcYImfs8iLw-2Cxuq=s64",
      "userId": "05803857212941809303"
     },
     "user_tz": 360
    },
    "id": "fbszsByyjKDy",
    "outputId": "2c90ed76-a6d6-4c04-bb04-529e1bfa563d"
   },
   "outputs": [
    {
     "name": "stdout",
     "output_type": "stream",
     "text": [
      "¿Existen datos perdidos? False\n",
      "Dimensiones del dataset: (50000, 2)\n"
     ]
    }
   ],
   "source": [
    "movie_reviews = pd.read_csv(\"/content/drive/My Drive/Colab Notebooks/IMDB Dataset.csv\")\n",
    "print(f\"¿Existen datos perdidos? {movie_reviews.isnull().values.any()}\")   #Retorna True en caso de que existan datos perdidos\n",
    "print(f\"Dimensiones del dataset: {movie_reviews.shape}\");"
   ]
  },
  {
   "cell_type": "markdown",
   "metadata": {
    "colab_type": "text",
    "id": "1Bfq0vNijKD1"
   },
   "source": [
    "Ahora utilicemos el método `head()` para imprimir los primeros 10 ejemplos del conjunto de datos."
   ]
  },
  {
   "cell_type": "code",
   "execution_count": 25,
   "metadata": {
    "colab": {
     "base_uri": "https://localhost:8080/",
     "height": 343
    },
    "colab_type": "code",
    "executionInfo": {
     "elapsed": 1460,
     "status": "ok",
     "timestamp": 1572405151988,
     "user": {
      "displayName": "Guillermo Coronado",
      "photoUrl": "https://lh3.googleusercontent.com/a-/AAuE7mB82CsOwLngHLjgxTU9FW1XcYImfs8iLw-2Cxuq=s64",
      "userId": "05803857212941809303"
     },
     "user_tz": 360
    },
    "id": "Abz-s0enjKD2",
    "outputId": "aa860a6c-ebd5-4031-d517-f4ef6da88989"
   },
   "outputs": [
    {
     "data": {
      "text/html": [
       "<div>\n",
       "<style scoped>\n",
       "    .dataframe tbody tr th:only-of-type {\n",
       "        vertical-align: middle;\n",
       "    }\n",
       "\n",
       "    .dataframe tbody tr th {\n",
       "        vertical-align: top;\n",
       "    }\n",
       "\n",
       "    .dataframe thead th {\n",
       "        text-align: right;\n",
       "    }\n",
       "</style>\n",
       "<table border=\"1\" class=\"dataframe\">\n",
       "  <thead>\n",
       "    <tr style=\"text-align: right;\">\n",
       "      <th></th>\n",
       "      <th>review</th>\n",
       "      <th>sentiment</th>\n",
       "    </tr>\n",
       "  </thead>\n",
       "  <tbody>\n",
       "    <tr>\n",
       "      <th>0</th>\n",
       "      <td>One of the other reviewers has mentioned that ...</td>\n",
       "      <td>positive</td>\n",
       "    </tr>\n",
       "    <tr>\n",
       "      <th>1</th>\n",
       "      <td>A wonderful little production. &lt;br /&gt;&lt;br /&gt;The...</td>\n",
       "      <td>positive</td>\n",
       "    </tr>\n",
       "    <tr>\n",
       "      <th>2</th>\n",
       "      <td>I thought this was a wonderful way to spend ti...</td>\n",
       "      <td>positive</td>\n",
       "    </tr>\n",
       "    <tr>\n",
       "      <th>3</th>\n",
       "      <td>Basically there's a family where a little boy ...</td>\n",
       "      <td>negative</td>\n",
       "    </tr>\n",
       "    <tr>\n",
       "      <th>4</th>\n",
       "      <td>Petter Mattei's \"Love in the Time of Money\" is...</td>\n",
       "      <td>positive</td>\n",
       "    </tr>\n",
       "    <tr>\n",
       "      <th>5</th>\n",
       "      <td>Probably my all-time favorite movie, a story o...</td>\n",
       "      <td>positive</td>\n",
       "    </tr>\n",
       "    <tr>\n",
       "      <th>6</th>\n",
       "      <td>I sure would like to see a resurrection of a u...</td>\n",
       "      <td>positive</td>\n",
       "    </tr>\n",
       "    <tr>\n",
       "      <th>7</th>\n",
       "      <td>This show was an amazing, fresh &amp; innovative i...</td>\n",
       "      <td>negative</td>\n",
       "    </tr>\n",
       "    <tr>\n",
       "      <th>8</th>\n",
       "      <td>Encouraged by the positive comments about this...</td>\n",
       "      <td>negative</td>\n",
       "    </tr>\n",
       "    <tr>\n",
       "      <th>9</th>\n",
       "      <td>If you like original gut wrenching laughter yo...</td>\n",
       "      <td>positive</td>\n",
       "    </tr>\n",
       "  </tbody>\n",
       "</table>\n",
       "</div>"
      ],
      "text/plain": [
       "                                              review sentiment\n",
       "0  One of the other reviewers has mentioned that ...  positive\n",
       "1  A wonderful little production. <br /><br />The...  positive\n",
       "2  I thought this was a wonderful way to spend ti...  positive\n",
       "3  Basically there's a family where a little boy ...  negative\n",
       "4  Petter Mattei's \"Love in the Time of Money\" is...  positive\n",
       "5  Probably my all-time favorite movie, a story o...  positive\n",
       "6  I sure would like to see a resurrection of a u...  positive\n",
       "7  This show was an amazing, fresh & innovative i...  negative\n",
       "8  Encouraged by the positive comments about this...  negative\n",
       "9  If you like original gut wrenching laughter yo...  positive"
      ]
     },
     "execution_count": 25,
     "metadata": {
      "tags": []
     },
     "output_type": "execute_result"
    }
   ],
   "source": [
    "movie_reviews.head(10)"
   ]
  },
  {
   "cell_type": "markdown",
   "metadata": {
    "colab_type": "text",
    "id": "nGeKQyBdjKD4"
   },
   "source": [
    "Ahora veamos a detalle alguna de las revisiones para tener una idea del texto que vamos a procesar."
   ]
  },
  {
   "cell_type": "code",
   "execution_count": 26,
   "metadata": {
    "colab": {
     "base_uri": "https://localhost:8080/",
     "height": 70
    },
    "colab_type": "code",
    "executionInfo": {
     "elapsed": 1448,
     "status": "ok",
     "timestamp": 1572405151989,
     "user": {
      "displayName": "Guillermo Coronado",
      "photoUrl": "https://lh3.googleusercontent.com/a-/AAuE7mB82CsOwLngHLjgxTU9FW1XcYImfs8iLw-2Cxuq=s64",
      "userId": "05803857212941809303"
     },
     "user_tz": 360
    },
    "id": "JWc3sOWxjKD5",
    "outputId": "08d8cfef-03a8-4bb8-e7ab-21d45b09177b"
   },
   "outputs": [
    {
     "name": "stdout",
     "output_type": "stream",
     "text": [
      "Revisión 3: Basically there's a family where a little boy (Jake) thinks there's a zombie in his closet & his parents are fighting all the time.<br /><br />This movie is slower than a soap opera... and suddenly, Jake decides to become Rambo and kill the zombie.<br /><br />OK, first of all when you're going to make a film you must Decide if its a thriller or a drama! As a drama the movie is watchable. Parents are divorcing & arguing like in real life. And then we have Jake with his closet which totally ruins all the film! I expected to see a BOOGEYMAN similar movie, and instead i watched a drama with some meaningless thriller spots.<br /><br />3 out of 10 just for the well playing parents & descent dialogs. As for the shots with Jake: just ignore them.\n",
      "Sentimiento en la revisión 3: negative\n"
     ]
    }
   ],
   "source": [
    "print(f\"Revisión 3: {movie_reviews['review'][3]}\")\n",
    "print(f\"Sentimiento en la revisión 3: {movie_reviews['sentiment'][3]}\")"
   ]
  },
  {
   "cell_type": "markdown",
   "metadata": {
    "colab_type": "text",
    "id": "cyaFRQKPjKD8"
   },
   "source": [
    "Observemos que el texto contiene signos de puntuación, paréntesis, y también algunas etiquetas HTML. Por lo anterior, será necesario realizar un preprocesamiento del texto antes de poderlo utilizar en la etapa de entrenamiento de nuestro modelo. Sin embargo, antes de iniciar con el preprocesamiento del conjunto de datos, veamos cuál es la distribución de sentimientos positivos y negativos en el conjunto de datos."
   ]
  },
  {
   "cell_type": "code",
   "execution_count": 27,
   "metadata": {
    "colab": {
     "base_uri": "https://localhost:8080/",
     "height": 296
    },
    "colab_type": "code",
    "executionInfo": {
     "elapsed": 1437,
     "status": "ok",
     "timestamp": 1572405151990,
     "user": {
      "displayName": "Guillermo Coronado",
      "photoUrl": "https://lh3.googleusercontent.com/a-/AAuE7mB82CsOwLngHLjgxTU9FW1XcYImfs8iLw-2Cxuq=s64",
      "userId": "05803857212941809303"
     },
     "user_tz": 360
    },
    "id": "-54utPpGjKD-",
    "outputId": "d13d19d3-0c53-4ddf-9bb6-64c15bbd8c41"
   },
   "outputs": [
    {
     "data": {
      "text/plain": [
       "<matplotlib.axes._subplots.AxesSubplot at 0x7f0b1e5e7940>"
      ]
     },
     "execution_count": 27,
     "metadata": {
      "tags": []
     },
     "output_type": "execute_result"
    },
    {
     "data": {
      "image/png": "[encoded data removed]",
      "text/plain": [
       "<Figure size 432x288 with 1 Axes>"
      ]
     },
     "metadata": {
      "tags": []
     },
     "output_type": "display_data"
    }
   ],
   "source": [
    "sns.countplot(x='sentiment', data=movie_reviews)"
   ]
  },
  {
   "cell_type": "code",
   "execution_count": 0,
   "metadata": {
    "colab": {},
    "colab_type": "code",
    "id": "Ttv3zmQGjKEC"
   },
   "outputs": [],
   "source": [
    "# Definamos una función que elimine todos los caracteres, excepto las letras mayúsculas y minúsculas\n",
    "# del alfabeto ingles. \n",
    "\n",
    "def preprocess_text(sen):\n",
    "    # Removamos las etiquetas HTML, sustituyamos cualquier texto que se encuentre entre < > con un\n",
    "    # espacio en blanco\n",
    "    TAG_RE = re.compile(r'<[^>]+>')\n",
    "    sentence =  TAG_RE.sub('', sen)\n",
    "\n",
    "    sentence = re.sub('[^a-zA-Z]', ' ', sentence)\n",
    "\n",
    "    # Lo anterior, puede dar como resultado caracteres aislados sin sentido, por ejemplo, si procesamos\n",
    "    # Mark's, con la función, entonces el resultado será:  Mark s\n",
    "    # Dado que se eliminó el apostrofe, nos quedamos con el caracter s aislado, el cual no tiene sentido.\n",
    "\n",
    "    # Eliminemos los caracteres aislados\n",
    "    sentence = re.sub(r\"\\s+[a-zA-Z]\\s+\", ' ', sentence)\n",
    "\n",
    "    # Lo anterior puede generar varios espacios en blanco, removamos los espacios múltiples\n",
    "    sentence = re.sub(r'\\s+', ' ', sentence)\n",
    "\n",
    "    return sentence"
   ]
  },
  {
   "cell_type": "code",
   "execution_count": 0,
   "metadata": {
    "colab": {},
    "colab_type": "code",
    "id": "mnD9ihWIjKEF"
   },
   "outputs": [],
   "source": [
    "# Apliquemos el preprocesamiento a nuestros reviews y almacenemos el resultado\n",
    "# en una nueva lista\n",
    "X = []\n",
    "sentences = list(movie_reviews['review'])\n",
    "for sen in sentences:\n",
    "    X.append(preprocess_text(sen))"
   ]
  },
  {
   "cell_type": "code",
   "execution_count": 30,
   "metadata": {
    "colab": {
     "base_uri": "https://localhost:8080/",
     "height": 54
    },
    "colab_type": "code",
    "executionInfo": {
     "elapsed": 9419,
     "status": "ok",
     "timestamp": 1572405160002,
     "user": {
      "displayName": "Guillermo Coronado",
      "photoUrl": "https://lh3.googleusercontent.com/a-/AAuE7mB82CsOwLngHLjgxTU9FW1XcYImfs8iLw-2Cxuq=s64",
      "userId": "05803857212941809303"
     },
     "user_tz": 360
    },
    "id": "eGvhc1wojKEH",
    "outputId": "49fdc877-0644-4cbe-b095-637d329d3433"
   },
   "outputs": [
    {
     "data": {
      "text/plain": [
       "'Basically there a family where little boy Jake thinks there a zombie in his closet his parents are fighting all the time This movie is slower than soap opera and suddenly Jake decides to become Rambo and kill the zombie OK first of all when you re going to make film you must Decide if its thriller or drama As drama the movie is watchable Parents are divorcing arguing like in real life And then we have Jake with his closet which totally ruins all the film expected to see BOOGEYMAN similar movie and instead watched drama with some meaningless thriller spots out of just for the well playing parents descent dialogs As for the shots with Jake just ignore them '"
      ]
     },
     "execution_count": 30,
     "metadata": {
      "tags": []
     },
     "output_type": "execute_result"
    }
   ],
   "source": [
    "X[3]"
   ]
  },
  {
   "cell_type": "markdown",
   "metadata": {
    "colab_type": "text",
    "id": "tbFqzJDzjKEK"
   },
   "source": [
    "Ahora que hemos limpiado los reviews, es necesario convertir los sentimientos en valores numéricos. Debido a que tenemos únicamente dos etiquetas (`positive` y `negative`), bastará con sustituir `positivo` con el dígito 1 y `negative` con el dígito 0."
   ]
  },
  {
   "cell_type": "code",
   "execution_count": 0,
   "metadata": {
    "colab": {},
    "colab_type": "code",
    "id": "dpC1o-R_jKEL"
   },
   "outputs": [],
   "source": [
    "y = movie_reviews['sentiment']\n",
    "y = np.array(list(map(lambda x: 1 if x==\"positive\" else 0, y)))"
   ]
  },
  {
   "cell_type": "markdown",
   "metadata": {
    "colab_type": "text",
    "id": "Lsmb6QJdjKEN"
   },
   "source": [
    "Finalmente, necesitamos dividir los nuestros datos en dos conjuntos: entrenamiento y pruebas. Utilicemos el método `train_test_split` de modulo `sklearn.model.selection`."
   ]
  },
  {
   "cell_type": "code",
   "execution_count": 0,
   "metadata": {
    "colab": {},
    "colab_type": "code",
    "id": "vFWk9tvMjKEO"
   },
   "outputs": [],
   "source": [
    "X_train, X_test, y_train, y_test = train_test_split(X, y, test_size=0.20, random_state=42)"
   ]
  },
  {
   "cell_type": "code",
   "execution_count": 0,
   "metadata": {
    "colab": {},
    "colab_type": "code",
    "id": "hsPfzuU4jKEV"
   },
   "outputs": [],
   "source": [
    "tokenizer = Tokenizer(num_words=5000)\n",
    "tokenizer.fit_on_texts(X_train)\n",
    "X_train = tokenizer.texts_to_sequences(X_train)\n",
    "X_test = tokenizer.texts_to_sequences(X_test)"
   ]
  },
  {
   "cell_type": "markdown",
   "metadata": {
    "colab_type": "text",
    "id": "B8fSK5AajKEX"
   },
   "source": [
    "Analicemos el contenido de la variable `X_train`. ¿Qué longitud tiene `X_train`? ¿cuál es el contenido del elemento 3 de X_train? ¿la longitud de todos los elementos de `X_train` es la misma?"
   ]
  },
  {
   "cell_type": "code",
   "execution_count": 34,
   "metadata": {
    "colab": {
     "base_uri": "https://localhost:8080/",
     "height": 104
    },
    "colab_type": "code",
    "executionInfo": {
     "elapsed": 20984,
     "status": "ok",
     "timestamp": 1572405171634,
     "user": {
      "displayName": "Guillermo Coronado",
      "photoUrl": "https://lh3.googleusercontent.com/a-/AAuE7mB82CsOwLngHLjgxTU9FW1XcYImfs8iLw-2Cxuq=s64",
      "userId": "05803857212941809303"
     },
     "user_tz": 360
    },
    "id": "n9txyxrLjKEY",
    "outputId": "835a28fb-05b5-4200-a655-b438ea3ff5a9"
   },
   "outputs": [
    {
     "name": "stdout",
     "output_type": "stream",
     "text": [
      "La longitud de X_train es: 40000\n",
      "X_train[3] = [8, 1547, 247, 2628, 5, 443, 4385, 1871, 14, 30, 31, 1062, 390, 4, 968, 119, 22, 118, 4197, 29, 44, 3, 1, 17, 78, 118, 4125, 122, 502, 18, 2, 31, 37, 555, 4, 25, 2839, 1, 2628, 221, 77, 4, 170, 1663, 777, 57, 59, 924, 7, 44, 1974, 950, 1164, 3355, 57, 376, 754, 264, 30, 1318, 1746, 1326, 31, 376, 529, 1135, 491, 19, 4, 736, 745, 701, 39, 3, 1, 1320, 3, 251, 7, 8, 407, 1, 103, 2654, 1749, 3813, 1420, 3515, 7, 1, 125, 46, 130, 147, 749, 9, 8, 16, 266, 52, 1975, 3, 1, 3, 3626, 13, 1, 57, 6, 3735, 7, 430, 752, 2, 9, 6, 5, 1428, 4, 1563, 2543, 51, 1, 2037, 15, 610, 94, 1064, 276, 3, 2, 36, 1415, 14, 57, 2990, 2628, 63, 29, 87, 428, 332, 3432]\n",
      "Longitud de X_train[3] = 143\n",
      "Longitud de X_train[8] = 210\n"
     ]
    }
   ],
   "source": [
    "print(f\"La longitud de X_train es: {len(X_train)}\")\n",
    "print(f\"X_train[3] = {X_train[3]}\")\n",
    "print(f\"Longitud de X_train[3] = {len(X_train[3])}\")\n",
    "print(f\"Longitud de X_train[8] = {len(X_train[8])}\")"
   ]
  },
  {
   "cell_type": "code",
   "execution_count": 0,
   "metadata": {
    "colab": {},
    "colab_type": "code",
    "id": "5gLa2Pb8jKEb"
   },
   "outputs": [],
   "source": [
    "vocab_size = len(tokenizer.word_index) + 1\n",
    "maxlen = 100\n",
    "\n",
    "X_train = pad_sequences(X_train, padding='post', maxlen=maxlen)\n",
    "X_test = pad_sequences(X_test, padding='post', maxlen=maxlen)"
   ]
  },
  {
   "cell_type": "code",
   "execution_count": 36,
   "metadata": {
    "colab": {
     "base_uri": "https://localhost:8080/",
     "height": 67
    },
    "colab_type": "code",
    "executionInfo": {
     "elapsed": 21795,
     "status": "ok",
     "timestamp": 1572405172480,
     "user": {
      "displayName": "Guillermo Coronado",
      "photoUrl": "https://lh3.googleusercontent.com/a-/AAuE7mB82CsOwLngHLjgxTU9FW1XcYImfs8iLw-2Cxuq=s64",
      "userId": "05803857212941809303"
     },
     "user_tz": 360
    },
    "id": "Z2Wg-AFpjKEh",
    "outputId": "438d033b-5365-4cfc-be7a-6f7e43163428"
   },
   "outputs": [
    {
     "name": "stdout",
     "output_type": "stream",
     "text": [
      "Longitud de X_train[3] = 100\n",
      "Longitud de X_train[8] = 100\n",
      "Longitud del vocabulario: 92547\n"
     ]
    }
   ],
   "source": [
    "print(f\"Longitud de X_train[3] = {len(X_train[3])}\")\n",
    "print(f\"Longitud de X_train[8] = {len(X_train[8])}\")\n",
    "print(f\"Longitud del vocabulario: {vocab_size}\")"
   ]
  },
  {
   "cell_type": "code",
   "execution_count": 0,
   "metadata": {
    "colab": {},
    "colab_type": "code",
    "id": "-EzPvBuyjKEk"
   },
   "outputs": [],
   "source": [
    "\n",
    "embeddings_dictionary = dict()\n",
    "glove_file = open('/content/drive/My Drive/Colab Notebooks/glove.6B.100d.txt', encoding=\"utf8\")\n",
    "\n",
    "for line in glove_file:\n",
    "    records = line.split()\n",
    "    word = records[0]\n",
    "    vector_dimensions = asarray(records[1:], dtype='float32')\n",
    "    embeddings_dictionary [word] = vector_dimensions\n",
    "glove_file.close()"
   ]
  },
  {
   "cell_type": "code",
   "execution_count": 0,
   "metadata": {
    "colab": {},
    "colab_type": "code",
    "id": "9GaW7WnbjKEn"
   },
   "outputs": [],
   "source": [
    "embedding_matrix = zeros((vocab_size, 100))\n",
    "for word, index in tokenizer.word_index.items():\n",
    "    embedding_vector = embeddings_dictionary.get(word)\n",
    "    if embedding_vector is not None:\n",
    "        embedding_matrix[index] = embedding_vector"
   ]
  },
  {
   "cell_type": "code",
   "execution_count": 39,
   "metadata": {
    "colab": {
     "base_uri": "https://localhost:8080/",
     "height": 34
    },
    "colab_type": "code",
    "executionInfo": {
     "elapsed": 32305,
     "status": "ok",
     "timestamp": 1572405183090,
     "user": {
      "displayName": "Guillermo Coronado",
      "photoUrl": "https://lh3.googleusercontent.com/a-/AAuE7mB82CsOwLngHLjgxTU9FW1XcYImfs8iLw-2Cxuq=s64",
      "userId": "05803857212941809303"
     },
     "user_tz": 360
    },
    "id": "yWuzkqEvjKEt",
    "outputId": "b7f36577-74d5-4fbd-c91a-788bb1ebb48a"
   },
   "outputs": [
    {
     "name": "stdout",
     "output_type": "stream",
     "text": [
      "Dimensiones de embedding_matrix: (92547, 100)\n"
     ]
    }
   ],
   "source": [
    "print(f\"Dimensiones de embedding_matrix: {embedding_matrix.shape}\")"
   ]
  },
  {
   "cell_type": "code",
   "execution_count": 40,
   "metadata": {
    "colab": {
     "base_uri": "https://localhost:8080/",
     "height": 457
    },
    "colab_type": "code",
    "executionInfo": {
     "elapsed": 33654,
     "status": "ok",
     "timestamp": 1572405184444,
     "user": {
      "displayName": "Guillermo Coronado",
      "photoUrl": "https://lh3.googleusercontent.com/a-/AAuE7mB82CsOwLngHLjgxTU9FW1XcYImfs8iLw-2Cxuq=s64",
      "userId": "05803857212941809303"
     },
     "user_tz": 360
    },
    "id": "MERlGpxtjKEx",
    "outputId": "156ae437-8228-4ac9-ba41-f88c58cbfbcf"
   },
   "outputs": [
    {
     "name": "stdout",
     "output_type": "stream",
     "text": [
      "WARNING:tensorflow:From /usr/local/lib/python3.6/dist-packages/keras/backend/tensorflow_backend.py:66: The name tf.get_default_graph is deprecated. Please use tf.compat.v1.get_default_graph instead.\n",
      "\n",
      "WARNING:tensorflow:From /usr/local/lib/python3.6/dist-packages/keras/backend/tensorflow_backend.py:541: The name tf.placeholder is deprecated. Please use tf.compat.v1.placeholder instead.\n",
      "\n",
      "WARNING:tensorflow:From /usr/local/lib/python3.6/dist-packages/keras/backend/tensorflow_backend.py:4432: The name tf.random_uniform is deprecated. Please use tf.random.uniform instead.\n",
      "\n",
      "WARNING:tensorflow:From /usr/local/lib/python3.6/dist-packages/keras/backend/tensorflow_backend.py:190: The name tf.get_default_session is deprecated. Please use tf.compat.v1.get_default_session instead.\n",
      "\n",
      "WARNING:tensorflow:From /usr/local/lib/python3.6/dist-packages/keras/backend/tensorflow_backend.py:197: The name tf.ConfigProto is deprecated. Please use tf.compat.v1.ConfigProto instead.\n",
      "\n",
      "WARNING:tensorflow:From /usr/local/lib/python3.6/dist-packages/keras/backend/tensorflow_backend.py:203: The name tf.Session is deprecated. Please use tf.compat.v1.Session instead.\n",
      "\n",
      "WARNING:tensorflow:From /usr/local/lib/python3.6/dist-packages/keras/backend/tensorflow_backend.py:207: The name tf.global_variables is deprecated. Please use tf.compat.v1.global_variables instead.\n",
      "\n",
      "WARNING:tensorflow:From /usr/local/lib/python3.6/dist-packages/keras/backend/tensorflow_backend.py:216: The name tf.is_variable_initialized is deprecated. Please use tf.compat.v1.is_variable_initialized instead.\n",
      "\n",
      "WARNING:tensorflow:From /usr/local/lib/python3.6/dist-packages/keras/backend/tensorflow_backend.py:223: The name tf.variables_initializer is deprecated. Please use tf.compat.v1.variables_initializer instead.\n",
      "\n",
      "WARNING:tensorflow:From /usr/local/lib/python3.6/dist-packages/keras/optimizers.py:793: The name tf.train.Optimizer is deprecated. Please use tf.compat.v1.train.Optimizer instead.\n",
      "\n",
      "WARNING:tensorflow:From /usr/local/lib/python3.6/dist-packages/keras/backend/tensorflow_backend.py:3657: The name tf.log is deprecated. Please use tf.math.log instead.\n",
      "\n",
      "WARNING:tensorflow:From /usr/local/lib/python3.6/dist-packages/tensorflow_core/python/ops/nn_impl.py:183: where (from tensorflow.python.ops.array_ops) is deprecated and will be removed in a future version.\n",
      "Instructions for updating:\n",
      "Use tf.where in 2.0, which has the same broadcast rule as np.where\n"
     ]
    }
   ],
   "source": [
    "model = Sequential()\n",
    "embedding_layer = Embedding(vocab_size, 100, weights=[embedding_matrix], input_length=maxlen , trainable=False)\n",
    "model.add(embedding_layer)\n",
    "model.add(LSTM(128))\n",
    "model.add(Dense(1, activation='sigmoid'))\n",
    "model.compile(optimizer='adam', loss='binary_crossentropy', metrics=['acc'])"
   ]
  },
  {
   "cell_type": "code",
   "execution_count": 41,
   "metadata": {
    "colab": {
     "base_uri": "https://localhost:8080/",
     "height": 269
    },
    "colab_type": "code",
    "executionInfo": {
     "elapsed": 33652,
     "status": "ok",
     "timestamp": 1572405184446,
     "user": {
      "displayName": "Guillermo Coronado",
      "photoUrl": "https://lh3.googleusercontent.com/a-/AAuE7mB82CsOwLngHLjgxTU9FW1XcYImfs8iLw-2Cxuq=s64",
      "userId": "05803857212941809303"
     },
     "user_tz": 360
    },
    "id": "W2C2RAmljKE0",
    "outputId": "f5e5b66e-ae81-4614-ea3b-d19fdc5c7183"
   },
   "outputs": [
    {
     "name": "stdout",
     "output_type": "stream",
     "text": [
      "Model: \"sequential_1\"\n",
      "_________________________________________________________________\n",
      "Layer (type)                 Output Shape              Param #   \n",
      "=================================================================\n",
      "embedding_1 (Embedding)      (None, 100, 100)          9254700   \n",
      "_________________________________________________________________\n",
      "lstm_1 (LSTM)                (None, 128)               117248    \n",
      "_________________________________________________________________\n",
      "dense_1 (Dense)              (None, 1)                 129       \n",
      "=================================================================\n",
      "Total params: 9,372,077\n",
      "Trainable params: 117,377\n",
      "Non-trainable params: 9,254,700\n",
      "_________________________________________________________________\n",
      "None\n"
     ]
    }
   ],
   "source": [
    "print(model.summary())"
   ]
  },
  {
   "cell_type": "code",
   "execution_count": 42,
   "metadata": {
    "colab": {
     "base_uri": "https://localhost:8080/",
     "height": 339
    },
    "colab_type": "code",
    "executionInfo": {
     "elapsed": 490912,
     "status": "ok",
     "timestamp": 1572405641709,
     "user": {
      "displayName": "Guillermo Coronado",
      "photoUrl": "https://lh3.googleusercontent.com/a-/AAuE7mB82CsOwLngHLjgxTU9FW1XcYImfs8iLw-2Cxuq=s64",
      "userId": "05803857212941809303"
     },
     "user_tz": 360
    },
    "id": "2s78h91OjKE2",
    "outputId": "6d081bc0-f5c1-4871-d500-7bdb6e7a345e"
   },
   "outputs": [
    {
     "name": "stdout",
     "output_type": "stream",
     "text": [
      "WARNING:tensorflow:From /usr/local/lib/python3.6/dist-packages/keras/backend/tensorflow_backend.py:1033: The name tf.assign_add is deprecated. Please use tf.compat.v1.assign_add instead.\n",
      "\n",
      "WARNING:tensorflow:From /usr/local/lib/python3.6/dist-packages/keras/backend/tensorflow_backend.py:1020: The name tf.assign is deprecated. Please use tf.compat.v1.assign instead.\n",
      "\n",
      "Train on 32000 samples, validate on 8000 samples\n",
      "Epoch 1/6\n",
      "32000/32000 [==============================] - 75s 2ms/step - loss: 0.5518 - acc: 0.7162 - val_loss: 0.4752 - val_acc: 0.7759\n",
      "Epoch 2/6\n",
      "32000/32000 [==============================] - 74s 2ms/step - loss: 0.4554 - acc: 0.7887 - val_loss: 0.4206 - val_acc: 0.8149\n",
      "Epoch 3/6\n",
      "32000/32000 [==============================] - 75s 2ms/step - loss: 0.3998 - acc: 0.8180 - val_loss: 0.3810 - val_acc: 0.8239\n",
      "Epoch 4/6\n",
      "32000/32000 [==============================] - 74s 2ms/step - loss: 0.3684 - acc: 0.8359 - val_loss: 0.3563 - val_acc: 0.8438\n",
      "Epoch 5/6\n",
      "32000/32000 [==============================] - 75s 2ms/step - loss: 0.3476 - acc: 0.8473 - val_loss: 0.3504 - val_acc: 0.8456\n",
      "Epoch 6/6\n",
      "32000/32000 [==============================] - 75s 2ms/step - loss: 0.3212 - acc: 0.8621 - val_loss: 0.3433 - val_acc: 0.8548\n",
      "10000/10000 [==============================] - 9s 882us/step\n"
     ]
    }
   ],
   "source": [
    "history = model.fit(X_train, y_train, batch_size=128, epochs=6, verbose=1, validation_split=0.2)\n",
    "\n",
    "score = model.evaluate(X_test, y_test, verbose=1)"
   ]
  },
  {
   "cell_type": "code",
   "execution_count": 43,
   "metadata": {
    "colab": {
     "base_uri": "https://localhost:8080/",
     "height": 50
    },
    "colab_type": "code",
    "executionInfo": {
     "elapsed": 490911,
     "status": "ok",
     "timestamp": 1572405641715,
     "user": {
      "displayName": "Guillermo Coronado",
      "photoUrl": "https://lh3.googleusercontent.com/a-/AAuE7mB82CsOwLngHLjgxTU9FW1XcYImfs8iLw-2Cxuq=s64",
      "userId": "05803857212941809303"
     },
     "user_tz": 360
    },
    "id": "FUMC2s_HjKE5",
    "outputId": "5c6cc3eb-7797-4bd6-a2e3-08550c719ea6"
   },
   "outputs": [
    {
     "name": "stdout",
     "output_type": "stream",
     "text": [
      "Test Score: 0.3400194616794586\n",
      "Test Accuracy: 0.8561\n"
     ]
    }
   ],
   "source": [
    "print(\"Test Score:\", score[0])\n",
    "print(\"Test Accuracy:\", score[1])"
   ]
  },
  {
   "cell_type": "code",
   "execution_count": 44,
   "metadata": {
    "colab": {
     "base_uri": "https://localhost:8080/",
     "height": 573
    },
    "colab_type": "code",
    "executionInfo": {
     "elapsed": 491365,
     "status": "ok",
     "timestamp": 1572405642173,
     "user": {
      "displayName": "Guillermo Coronado",
      "photoUrl": "https://lh3.googleusercontent.com/a-/AAuE7mB82CsOwLngHLjgxTU9FW1XcYImfs8iLw-2Cxuq=s64",
      "userId": "05803857212941809303"
     },
     "user_tz": 360
    },
    "id": "6Lj5t12QjKE8",
    "outputId": "04c4aa7a-942d-4087-de0c-b46f4b5cb0d2"
   },
   "outputs": [
    {
     "data": {
      "image/png": "[encoded data removed]",
      "text/plain": [
       "<Figure size 432x288 with 1 Axes>"
      ]
     },
     "metadata": {
      "tags": []
     },
     "output_type": "display_data"
    },
    {
     "data": {
      "image/png": "[encoded data removed]",
      "text/plain": [
       "<Figure size 432x288 with 1 Axes>"
      ]
     },
     "metadata": {
      "tags": []
     },
     "output_type": "display_data"
    }
   ],
   "source": [
    "import matplotlib.pyplot as plt\n",
    "\n",
    "plt.plot(history.history['acc'])\n",
    "plt.plot(history.history['val_acc'])\n",
    "\n",
    "plt.title('model accuracy')\n",
    "plt.ylabel('accuracy')\n",
    "plt.xlabel('epoch')\n",
    "plt.legend(['train','test'], loc='upper left')\n",
    "plt.show()\n",
    "\n",
    "plt.plot(history.history['loss'])\n",
    "plt.plot(history.history['val_loss'])\n",
    "\n",
    "plt.title('model loss')\n",
    "plt.ylabel('loss')\n",
    "plt.xlabel('epoch')\n",
    "plt.legend(['train','test'], loc='upper left')\n",
    "plt.show()"
   ]
  },
  {
   "cell_type": "code",
   "execution_count": 45,
   "metadata": {
    "colab": {
     "base_uri": "https://localhost:8080/",
     "height": 54
    },
    "colab_type": "code",
    "executionInfo": {
     "elapsed": 491365,
     "status": "ok",
     "timestamp": 1572405642175,
     "user": {
      "displayName": "Guillermo Coronado",
      "photoUrl": "https://lh3.googleusercontent.com/a-/AAuE7mB82CsOwLngHLjgxTU9FW1XcYImfs8iLw-2Cxuq=s64",
      "userId": "05803857212941809303"
     },
     "user_tz": 360
    },
    "id": "uQ71mTKqjKE-",
    "outputId": "7cde87a6-6e3f-4243-b508-1c1a4c2febdc"
   },
   "outputs": [
    {
     "name": "stdout",
     "output_type": "stream",
     "text": [
      "I watched this film not really expecting much got it in pack of films all of which were pretty terrible in their own way for under fiver so what could expect and you know what was right they were all terrible this movie has few and few is stretching it interesting points the occasional camcorder view is nice touch the drummer is very like drummer e damned annoying and well thats about it actually the problem is that its just so boring in what can only assume was an attempt to build tension whole lot of nothing happens and when it does its utterly tedious had my thumb on the fast forward button ready to press for most of the movie but gave it go and seriously is the lead singer of the band that great looking coz they don half mention how beautiful he is hell of lot thought he looked bit like meercat all this and haven even mentioned the killer m not even gonna go into it its just not worth explaining Anyway as far as m concerned Star and London are just about the only reason to watch this and with the exception of London who was actually quite funny it wasn because of their acting talent ve certainly seen lot worse but ve also seen lot better Best avoid unless your bored of watching paint dry \n"
     ]
    }
   ],
   "source": [
    "instance = X[34]\n",
    "print(instance)"
   ]
  },
  {
   "cell_type": "code",
   "execution_count": 46,
   "metadata": {
    "colab": {
     "base_uri": "https://localhost:8080/",
     "height": 34
    },
    "colab_type": "code",
    "executionInfo": {
     "elapsed": 491363,
     "status": "ok",
     "timestamp": 1572405642176,
     "user": {
      "displayName": "Guillermo Coronado",
      "photoUrl": "https://lh3.googleusercontent.com/a-/AAuE7mB82CsOwLngHLjgxTU9FW1XcYImfs8iLw-2Cxuq=s64",
      "userId": "05803857212941809303"
     },
     "user_tz": 360
    },
    "id": "6Bm_Ti_JjKFA",
    "outputId": "716e98a7-90f3-442e-b9f6-5704007f8598"
   },
   "outputs": [
    {
     "data": {
      "text/plain": [
       "array([[0.61383003]], dtype=float32)"
      ]
     },
     "execution_count": 46,
     "metadata": {
      "tags": []
     },
     "output_type": "execute_result"
    }
   ],
   "source": [
    "instance = tokenizer.texts_to_sequences(instance)\n",
    "\n",
    "flat_list = []\n",
    "for sublist in instance:\n",
    "    for item in sublist:\n",
    "        flat_list.append(item)\n",
    "\n",
    "flat_list = [flat_list]\n",
    "\n",
    "instance = pad_sequences(flat_list, padding='post', maxlen=maxlen)\n",
    "\n",
    "model.predict(instance)"
   ]
  },
  {
   "cell_type": "code",
   "execution_count": 47,
   "metadata": {
    "colab": {
     "base_uri": "https://localhost:8080/",
     "height": 54
    },
    "colab_type": "code",
    "executionInfo": {
     "elapsed": 491361,
     "status": "ok",
     "timestamp": 1572405642177,
     "user": {
      "displayName": "Guillermo Coronado",
      "photoUrl": "https://lh3.googleusercontent.com/a-/AAuE7mB82CsOwLngHLjgxTU9FW1XcYImfs8iLw-2Cxuq=s64",
      "userId": "05803857212941809303"
     },
     "user_tz": 360
    },
    "id": "aeUWgdiQjKFD",
    "outputId": "ef6cb6f0-767c-4ad6-f477-000aa6561e5a"
   },
   "outputs": [
    {
     "name": "stdout",
     "output_type": "stream",
     "text": [
      "Encouraged by the positive comments about this film on here was looking forward to watching this film Bad mistake ve seen films and this is truly one of the worst of them it awful in almost every way editing pacing storyline acting soundtrack the film only song lame country tune is played no less than four times The film looks cheap and nasty and is boring in the extreme Rarely have been so happy to see the end credits of film The only thing that prevents me giving this score is Harvey Keitel while this is far from his best performance he at least seems to be making bit of an effort One for Keitel obsessives only \n"
     ]
    }
   ],
   "source": [
    "instance = X[8]\n",
    "print(instance)"
   ]
  },
  {
   "cell_type": "code",
   "execution_count": 48,
   "metadata": {
    "colab": {
     "base_uri": "https://localhost:8080/",
     "height": 34
    },
    "colab_type": "code",
    "executionInfo": {
     "elapsed": 491462,
     "status": "ok",
     "timestamp": 1572405642284,
     "user": {
      "displayName": "Guillermo Coronado",
      "photoUrl": "https://lh3.googleusercontent.com/a-/AAuE7mB82CsOwLngHLjgxTU9FW1XcYImfs8iLw-2Cxuq=s64",
      "userId": "05803857212941809303"
     },
     "user_tz": 360
    },
    "id": "c2fYXFoCjKFG",
    "outputId": "29b38755-c052-449a-a150-6988e286c21f"
   },
   "outputs": [
    {
     "data": {
      "text/plain": [
       "array([[0.9603156]], dtype=float32)"
      ]
     },
     "execution_count": 48,
     "metadata": {
      "tags": []
     },
     "output_type": "execute_result"
    }
   ],
   "source": [
    "instance = tokenizer.texts_to_sequences(instance)\n",
    "\n",
    "flat_list = []\n",
    "for sublist in instance:\n",
    "    for item in sublist:\n",
    "        flat_list.append(item)\n",
    "\n",
    "flat_list = [flat_list]\n",
    "\n",
    "instance = pad_sequences(flat_list, padding='post', maxlen=maxlen)\n",
    "\n",
    "model.predict(instance)"
   ]
  }
 ],
 "metadata": {
  "colab": {
   "name": "ex08.ipynb",
   "provenance": []
  },
  "kernelspec": {
   "display_name": "Python 3",
   "language": "python",
   "name": "python3"
  },
  "language_info": {
   "codemirror_mode": {
    "name": "ipython",
    "version": 3
   },
   "file_extension": ".py",
   "mimetype": "text/x-python",
   "name": "python",
   "nbconvert_exporter": "python",
   "pygments_lexer": "ipython3",
   "version": "3.6.6"
  }
 },
 "nbformat": 4,
 "nbformat_minor": 1
}
