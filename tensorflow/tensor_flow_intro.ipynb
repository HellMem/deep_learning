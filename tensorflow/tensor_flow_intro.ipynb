{
 "cells": [
  {
   "cell_type": "code",
   "execution_count": 0,
   "metadata": {
    "colab": {},
    "colab_type": "code",
    "id": "VYeAz-FU2voh"
   },
   "outputs": [],
   "source": [
    "import numpy as np\n",
    "import tensorflow as tf\n",
    "\n",
    "%matplotlib inline\n",
    "\n",
    "# Con el fin de poder comparar los resultados\n",
    "np.random.seed(2)"
   ]
  },
  {
   "cell_type": "code",
   "execution_count": 3,
   "metadata": {
    "colab": {
     "base_uri": "https://localhost:8080/",
     "height": 34
    },
    "colab_type": "code",
    "executionInfo": {
     "elapsed": 658,
     "status": "ok",
     "timestamp": 1570402704128,
     "user": {
      "displayName": "Guillermo Coronado",
      "photoUrl": "https://lh3.googleusercontent.com/a-/AAuE7mB82CsOwLngHLjgxTU9FW1XcYImfs8iLw-2Cxuq=s64",
      "userId": "05803857212941809303"
     },
     "user_tz": 300
    },
    "id": "tmRnqCzE2vol",
    "outputId": "e111e71d-4a88-493e-8519-591e536c1ff2"
   },
   "outputs": [
    {
     "name": "stdout",
     "output_type": "stream",
     "text": [
      "loss = 16\n"
     ]
    }
   ],
   "source": [
    "y_hat = tf.constant(25, name = 'y_hat') #Definir una constante y_hat = 25\n",
    "y = tf.constant(29, name = 'y')  #Definir una constante y = 29\n",
    "loss = (y-y_hat)**2     #Definir una variable y asignar (y-y_hat)**2\n",
    "init = tf.global_variables_initializer()  #Definir la inicialización de variables\n",
    "session = tf.Session()   #Crear una sesión e imprimir la salida\n",
    "session.run(init)        #Ejecutar la inicializión de las variables\n",
    "r = session.run(loss)    #Ejecutar el cálculo de loss\n",
    "print(f\"loss = {r}\")                  "
   ]
  },
  {
   "cell_type": "code",
   "execution_count": 4,
   "metadata": {
    "colab": {
     "base_uri": "https://localhost:8080/",
     "height": 51
    },
    "colab_type": "code",
    "executionInfo": {
     "elapsed": 339,
     "status": "ok",
     "timestamp": 1570402830682,
     "user": {
      "displayName": "Guillermo Coronado",
      "photoUrl": "https://lh3.googleusercontent.com/a-/AAuE7mB82CsOwLngHLjgxTU9FW1XcYImfs8iLw-2Cxuq=s64",
      "userId": "05803857212941809303"
     },
     "user_tz": 300
    },
    "id": "FAD1g9fZ2voo",
    "outputId": "83c123f6-1a63-4661-ab4f-496009edd873"
   },
   "outputs": [
    {
     "name": "stdout",
     "output_type": "stream",
     "text": [
      "c = Tensor(\"Mul:0\", shape=(), dtype=int32)\n",
      "c = 20\n"
     ]
    }
   ],
   "source": [
    "a = tf.constant(2, name = 'a')\n",
    "b = tf.constant(10, name = 'b')\n",
    "c =  tf.multiply(a , b)\n",
    "print(f\"c = {c}\")\n",
    "session = tf.Session()\n",
    "print(f\"c = {session.run(c)}\")"
   ]
  },
  {
   "cell_type": "code",
   "execution_count": 5,
   "metadata": {
    "colab": {
     "base_uri": "https://localhost:8080/",
     "height": 34
    },
    "colab_type": "code",
    "executionInfo": {
     "elapsed": 398,
     "status": "ok",
     "timestamp": 1570403291585,
     "user": {
      "displayName": "Guillermo Coronado",
      "photoUrl": "https://lh3.googleusercontent.com/a-/AAuE7mB82CsOwLngHLjgxTU9FW1XcYImfs8iLw-2Cxuq=s64",
      "userId": "05803857212941809303"
     },
     "user_tz": 300
    },
    "id": "tlKV-xhu2vos",
    "outputId": "845cb15e-b6e2-4627-8b78-c1d3a8ade185"
   },
   "outputs": [
    {
     "name": "stdout",
     "output_type": "stream",
     "text": [
      "r = 9\n"
     ]
    }
   ],
   "source": [
    "z = tf.placeholder(tf.int32, name='z')\n",
    "r = session.run(3*z, feed_dict = {z: 3})\n",
    "print(f\"r = {r}\")\n",
    "session.close()"
   ]
  },
  {
   "cell_type": "code",
   "execution_count": 6,
   "metadata": {
    "colab": {
     "base_uri": "https://localhost:8080/",
     "height": 85
    },
    "colab_type": "code",
    "executionInfo": {
     "elapsed": 306,
     "status": "ok",
     "timestamp": 1570403594480,
     "user": {
      "displayName": "Guillermo Coronado",
      "photoUrl": "https://lh3.googleusercontent.com/a-/AAuE7mB82CsOwLngHLjgxTU9FW1XcYImfs8iLw-2Cxuq=s64",
      "userId": "05803857212941809303"
     },
     "user_tz": 300
    },
    "id": "vboXKq7X2vov",
    "outputId": "454f5fb7-3cf5-4d53-a056-fb0a9ed3b9f7"
   },
   "outputs": [
    {
     "name": "stdout",
     "output_type": "stream",
     "text": [
      "result = [[-2.15657382]\n",
      " [ 2.95891446]\n",
      " [-1.08926781]\n",
      " [-0.84538042]]\n"
     ]
    }
   ],
   "source": [
    "def linear_function():\n",
    "    np.random.seed(1)\n",
    "    \n",
    "    #Inicialice las constantes X, W, b\n",
    "    X = tf.constant(np.random.randn(3,1), name = \"X\")\n",
    "    W = tf.constant(np.random.randn(4,3), name = \"W\")\n",
    "    b = tf.constant(np.random.randn(4,1), name = \"b\")\n",
    "\n",
    "    #Defina las operaciones del grafo de cómputo\n",
    "    Y = tf.add(tf.matmul(W, X), b)\n",
    "    \n",
    "    #Crear la sesión y ejecutarla\n",
    "    session = tf.Session()\n",
    "    result = session.run(Y)\n",
    "    session.close()\n",
    "    \n",
    "    return result\n",
    "\n",
    "print(f\"result = {linear_function()}\")"
   ]
  },
  {
   "cell_type": "code",
   "execution_count": 9,
   "metadata": {
    "colab": {
     "base_uri": "https://localhost:8080/",
     "height": 51
    },
    "colab_type": "code",
    "executionInfo": {
     "elapsed": 332,
     "status": "ok",
     "timestamp": 1570403794378,
     "user": {
      "displayName": "Guillermo Coronado",
      "photoUrl": "https://lh3.googleusercontent.com/a-/AAuE7mB82CsOwLngHLjgxTU9FW1XcYImfs8iLw-2Cxuq=s64",
      "userId": "05803857212941809303"
     },
     "user_tz": 300
    },
    "id": "L3w7d8yp2voy",
    "outputId": "9b4bb297-f670-4251-98ab-593e99c99430"
   },
   "outputs": [
    {
     "name": "stdout",
     "output_type": "stream",
     "text": [
      "sigmoid(0) = 0.5\n",
      "sigmoid(12) = 0.9999938011169434\n"
     ]
    }
   ],
   "source": [
    "def sigmoid(z):\n",
    "    # Crear el placeholder para x, nombrarla x\n",
    "    x = tf.placeholder(tf.float32, name='x')\n",
    "\n",
    "    # Definir el cálculo de la sigmoidal\n",
    "    sigmoid = tf.sigmoid(x)\n",
    "    \n",
    "    session = tf.Session()\n",
    "    result = session.run(sigmoid, feed_dict = {x: z})\n",
    "    \n",
    "    return result\n",
    "\n",
    "print(f\"sigmoid(0) = {sigmoid(0)}\")\n",
    "print(f\"sigmoid(12) = {sigmoid(12)}\")"
   ]
  },
  {
   "cell_type": "code",
   "execution_count": 12,
   "metadata": {
    "colab": {
     "base_uri": "https://localhost:8080/",
     "height": 105
    },
    "colab_type": "code",
    "executionInfo": {
     "elapsed": 319,
     "status": "ok",
     "timestamp": 1570404208548,
     "user": {
      "displayName": "Guillermo Coronado",
      "photoUrl": "https://lh3.googleusercontent.com/a-/AAuE7mB82CsOwLngHLjgxTU9FW1XcYImfs8iLw-2Cxuq=s64",
      "userId": "05803857212941809303"
     },
     "user_tz": 300
    },
    "id": "JPJLOd652vo1",
    "outputId": "815bae18-b7cb-4375-cd92-2c2d015896a6"
   },
   "outputs": [
    {
     "name": "stdout",
     "output_type": "stream",
     "text": [
      "WARNING:tensorflow:From /usr/local/lib/python3.6/dist-packages/tensorflow/python/ops/nn_impl.py:180: add_dispatch_support.<locals>.wrapper (from tensorflow.python.ops.array_ops) is deprecated and will be removed in a future version.\n",
      "Instructions for updating:\n",
      "Use tf.where in 2.0, which has the same broadcast rule as np.where\n",
      "cost = [1.0053872  1.0366409  0.41385433 0.39956614]\n"
     ]
    }
   ],
   "source": [
    "def cost(logits, labels):\n",
    "    \"\"\"\n",
    "    Parámetros:\n",
    "    \n",
    "    logits  vector que contiene las entradas a la unidad de activación (antes de la activación sigmoidal final)\n",
    "    labels  vector de etiquetas (1 o 0)\n",
    "    \"\"\"\n",
    "    \n",
    "    #Crear los placeholders para Z y las etiquetas\n",
    "    z = tf.placeholder(tf.float32, name='z')\n",
    "    y = tf.placeholder(tf.float32, name='y')\n",
    "    \n",
    "    # Utilice la función de costo\n",
    "    cost = tf.nn.sigmoid_cross_entropy_with_logits(logits = z, labels = y)\n",
    "    \n",
    "    #crear una sesión\n",
    "    session =  tf.Session()\n",
    "    \n",
    "    #Ejecutar la sesión\n",
    "    cost = session.run(cost,feed_dict = {z: logits, y : labels})\n",
    "    \n",
    "    #Cerrar la sesión\n",
    "    session.close()\n",
    "    \n",
    "    return cost\n",
    "\n",
    "logits = sigmoid(np.array([0.2,0.4,0.7,0.9]))\n",
    "cost = cost(logits, np.array([0,0,1,1]))\n",
    "print (f\"cost = {cost}\")"
   ]
  },
  {
   "cell_type": "code",
   "execution_count": 16,
   "metadata": {
    "colab": {
     "base_uri": "https://localhost:8080/",
     "height": 68
    },
    "colab_type": "code",
    "executionInfo": {
     "elapsed": 350,
     "status": "ok",
     "timestamp": 1570404497464,
     "user": {
      "displayName": "Guillermo Coronado",
      "photoUrl": "https://lh3.googleusercontent.com/a-/AAuE7mB82CsOwLngHLjgxTU9FW1XcYImfs8iLw-2Cxuq=s64",
      "userId": "05803857212941809303"
     },
     "user_tz": 300
    },
    "id": "JFPUTk4k2vo4",
    "outputId": "40599327-4fc6-4798-e3a3-25dc01375251"
   },
   "outputs": [
    {
     "name": "stdout",
     "output_type": "stream",
     "text": [
      "[[0. 0. 1. 0. 0. 1.]\n",
      " [1. 0. 0. 0. 1. 0.]\n",
      " [0. 1. 0. 1. 0. 0.]]\n"
     ]
    }
   ],
   "source": [
    "def one_hot_encoding(label, C):\n",
    "    C = tf.constant(C, name='C')\n",
    "    \n",
    "    one_hot_encode = tf.one_hot(labels, C, axis=0)\n",
    "    \n",
    "    session = tf.Session()\n",
    "    one_hot = session.run(one_hot_encode)\n",
    "    session.close()\n",
    "    \n",
    "    return one_hot\n",
    "\n",
    "labels = np.array([1,2,0,2,1,0])\n",
    "one_hot = one_hot_encoding(labels, C = 3)\n",
    "print (f\"{one_hot}\")"
   ]
  },
  {
   "cell_type": "code",
   "execution_count": 17,
   "metadata": {
    "colab": {
     "base_uri": "https://localhost:8080/",
     "height": 34
    },
    "colab_type": "code",
    "executionInfo": {
     "elapsed": 326,
     "status": "ok",
     "timestamp": 1570404624856,
     "user": {
      "displayName": "Guillermo Coronado",
      "photoUrl": "https://lh3.googleusercontent.com/a-/AAuE7mB82CsOwLngHLjgxTU9FW1XcYImfs8iLw-2Cxuq=s64",
      "userId": "05803857212941809303"
     },
     "user_tz": 300
    },
    "id": "9Jrgfk_r2vo7",
    "outputId": "27c85de8-f6d6-46e6-9e9a-16e3f6bb1bdc"
   },
   "outputs": [
    {
     "name": "stdout",
     "output_type": "stream",
     "text": [
      "[1. 1. 1.]\n"
     ]
    }
   ],
   "source": [
    "def ones(shape):\n",
    "    \n",
    "    ones = tf.ones(shape)\n",
    "    \n",
    "    session = tf.Session()\n",
    "    \n",
    "    ones = session.run(ones)\n",
    "    session.close()\n",
    "    \n",
    "    return ones\n",
    "\n",
    "print (f\"{ones([3])}\")"
   ]
  }
 ],
 "metadata": {
  "colab": {
   "collapsed_sections": [],
   "name": "ex05.ipynb",
   "provenance": []
  },
  "kernelspec": {
   "display_name": "Python 3",
   "language": "python",
   "name": "python3"
  },
  "language_info": {
   "codemirror_mode": {
    "name": "ipython",
    "version": 3
   },
   "file_extension": ".py",
   "mimetype": "text/x-python",
   "name": "python",
   "nbconvert_exporter": "python",
   "pygments_lexer": "ipython3",
   "version": "3.6.6"
  }
 },
 "nbformat": 4,
 "nbformat_minor": 1
}
